{
 "cells": [
  {
   "cell_type": "code",
   "execution_count": 2,
   "id": "6197493f-2367-42a5-9b0f-2d96e113d715",
   "metadata": {},
   "outputs": [],
   "source": [
    "#Importing Libraries\n",
    "import os\n",
    "import numpy as np\n",
    "\n",
    "import tensorflow as tf\n",
    "from tensorflow.keras import layers\n",
    "from tensorflow.keras.preprocessing.image import load_img, ImageDataGenerator\n",
    "from tensorflow.keras.models import Sequential, load_model\n",
    "from tensorflow.keras.layers import Conv2D, MaxPooling2D, Dense, Dropout, Flatten\n"
   ]
  },
  {
   "cell_type": "code",
   "execution_count": null,
   "id": "bb5dcd8e-835c-4e4a-a3d3-8e253553e302",
   "metadata": {},
   "outputs": [],
   "source": [
    "count = 0 \n",
    "dirs = os.listdir('images/')\n",
    "for dir in dirs:\n",
    "    files = list(os.listdir('images/'+dir))\n",
    "    print( dir +' Folder has '+ str(len(files)) + ' images')\n",
    "    count = count + len(files)\n",
    "print( 'Images Folder has '+ str(count) + ' images')"
   ]
  }
 ],
 "metadata": {
  "kernelspec": {
   "display_name": "Python 3 (ipykernel)",
   "language": "python",
   "name": "python3"
  },
  "language_info": {
   "codemirror_mode": {
    "name": "ipython",
    "version": 3
   },
   "file_extension": ".py",
   "mimetype": "text/x-python",
   "name": "python",
   "nbconvert_exporter": "python",
   "pygments_lexer": "ipython3",
   "version": "3.11.3"
  }
 },
 "nbformat": 4,
 "nbformat_minor": 5
}
